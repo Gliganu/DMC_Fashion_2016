{
 "cells": [
  {
   "cell_type": "code",
   "execution_count": 20,
   "metadata": {
    "collapsed": true
   },
   "outputs": [],
   "source": [
    "import sys\n",
    "import pandas as pd\n",
    "import pickle\n",
    "import numpy as np\n",
    "from sklearn.preprocessing import Imputer,StandardScaler,PolynomialFeatures\n",
    "from sklearn.feature_selection import SelectKBest,f_regression\n",
    "from sklearn.cross_validation import train_test_split\n"
   ]
  },
  {
   "cell_type": "code",
   "execution_count": 33,
   "metadata": {
    "collapsed": true
   },
   "outputs": [],
   "source": [
    "# inputFileName = '..\\\\data\\\\orders_train_short.txt'\n",
    "inputFileName = '..\\\\data\\\\orders_train_10k.txt'\n",
    "data = pd.read_csv(inputFileName, delimiter=';', skipinitialspace=True)\n"
   ]
  },
  {
   "cell_type": "code",
   "execution_count": 34,
   "metadata": {
    "collapsed": false
   },
   "outputs": [],
   "source": [
    "keptColumns = ['quantity', 'price', 'rrp','voucherAmount','returnQuantity']\n",
    "\n",
    "# avoid chain indexing warning\n",
    "data = data[keptColumns].copy()\n",
    "\n",
    "# drop NAs\n",
    "data = data.dropna()"
   ]
  },
  {
   "cell_type": "code",
   "execution_count": 35,
   "metadata": {
    "collapsed": false
   },
   "outputs": [],
   "source": [
    "predictionColumnId = 'returnQuantity'\n",
    "    \n",
    "trainData, testData = train_test_split(data, test_size=0.25)\n",
    "\n",
    "xTrain = trainData.ix[:, trainData.columns != predictionColumnId].values\n",
    "yTrain = trainData[predictionColumnId].values"
   ]
  },
  {
   "cell_type": "code",
   "execution_count": 37,
   "metadata": {
    "collapsed": false
   },
   "outputs": [],
   "source": [
    "selector = SelectKBest(f_regression, k=3) #k is number of features.\n",
    "newXTrain = selector.fit_transform(xTrain, yTrain)"
   ]
  },
  {
   "cell_type": "code",
   "execution_count": 39,
   "metadata": {
    "collapsed": false
   },
   "outputs": [
    {
     "data": {
      "text/plain": [
       "array([ True,  True,  True, False], dtype=bool)"
      ]
     },
     "execution_count": 39,
     "metadata": {},
     "output_type": "execute_result"
    }
   ],
   "source": [
    "selector.get_support()"
   ]
  },
  {
   "cell_type": "code",
   "execution_count": null,
   "metadata": {
    "collapsed": true
   },
   "outputs": [],
   "source": []
  }
 ],
 "metadata": {
  "kernelspec": {
   "display_name": "Python 3",
   "language": "python",
   "name": "python3"
  },
  "language_info": {
   "codemirror_mode": {
    "name": "ipython",
    "version": 3
   },
   "file_extension": ".py",
   "mimetype": "text/x-python",
   "name": "python",
   "nbconvert_exporter": "python",
   "pygments_lexer": "ipython3",
   "version": "3.5.1"
  }
 },
 "nbformat": 4,
 "nbformat_minor": 0
}
