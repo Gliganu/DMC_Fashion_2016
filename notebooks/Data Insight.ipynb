{
 "cells": [
  {
   "cell_type": "code",
   "execution_count": 1,
   "metadata": {
    "collapsed": true
   },
   "outputs": [],
   "source": [
    "import pandas as pd\n",
    "import numpy as np\n",
    "import matplotlib.pyplot as plt\n",
    "%matplotlib inline"
   ]
  },
  {
   "cell_type": "code",
   "execution_count": 16,
   "metadata": {
    "collapsed": true
   },
   "outputs": [],
   "source": [
    "# inputFileName = '..\\\\data\\\\orders_train_short.txt'\n",
    "inputFileName = '..\\\\data\\\\orders_train_1k.txt'\n",
    "data = pd.read_csv(inputFileName, delimiter=';', skipinitialspace=True)\n",
    "\n",
    "testInputFileName = '..\\\\data\\\\orders_class.txt'\n",
    "testData = pd.read_csv(testInputFileName, delimiter=';', skipinitialspace=True)"
   ]
  },
  {
   "cell_type": "markdown",
   "metadata": {},
   "source": [
    "How many unique instances in each column"
   ]
  },
  {
   "cell_type": "code",
   "execution_count": 3,
   "metadata": {
    "collapsed": false
   },
   "outputs": [
    {
     "name": "stdout",
     "output_type": "stream",
     "text": [
      "orderID : 332 \n",
      "orderDate : 1 \n",
      "articleID : 388 \n",
      "colorCode : 119 \n",
      "sizeCode : 19 \n",
      "productGroup : 14 \n",
      "quantity : 4 \n",
      "price : 48 \n",
      "rrp : 33 \n",
      "voucherID : 4 \n",
      "voucherAmount : 3 \n",
      "customerID : 331 \n",
      "deviceID : 4 \n",
      "paymentMethod : 6 \n",
      "returnQuantity : 3 \n"
     ]
    }
   ],
   "source": [
    "for column in data.columns:\n",
    "    print (\"{} : {} \".format(column,data[column].unique().shape[0]))"
   ]
  },
  {
   "cell_type": "markdown",
   "metadata": {},
   "source": [
    "How many missing values in each columns"
   ]
  },
  {
   "cell_type": "code",
   "execution_count": 4,
   "metadata": {
    "collapsed": false
   },
   "outputs": [
    {
     "data": {
      "text/plain": [
       "orderID           0\n",
       "orderDate         0\n",
       "articleID         0\n",
       "colorCode         0\n",
       "sizeCode          0\n",
       "productGroup      0\n",
       "quantity          0\n",
       "price             0\n",
       "rrp               0\n",
       "voucherID         0\n",
       "voucherAmount     0\n",
       "customerID        0\n",
       "deviceID          0\n",
       "paymentMethod     0\n",
       "returnQuantity    0\n",
       "dtype: int64"
      ]
     },
     "execution_count": 4,
     "metadata": {},
     "output_type": "execute_result"
    }
   ],
   "source": [
    "data.isnull().sum()"
   ]
  },
  {
   "cell_type": "code",
   "execution_count": 5,
   "metadata": {
    "collapsed": false
   },
   "outputs": [
    {
     "name": "stdout",
     "output_type": "stream",
     "text": [
      "Total unique: 331\n",
      "Total seen: 92\n",
      "Percentage: 0.27794561933534745\n"
     ]
    }
   ],
   "source": [
    "trainCustomer = pd.Series(data['customerID'].unique())\n",
    "testCustomer = pd.Series(testData['customerID'].unique())\n",
    "\n",
    "totalTrainCustomer = trainCustomer.size\n",
    "seenCustomersNumber = trainCustomer.isin(testCustomer).sum()\n",
    "\n",
    "print(\"Total unique: {}\".format(totalTrainCustomer))\n",
    "print(\"Total seen: {}\".format(seenCustomersNumber))\n",
    "print(\"Percentage: {}\".format(seenCustomersNumber/totalTrainCustomer))"
   ]
  }
 ],
 "metadata": {
  "kernelspec": {
   "display_name": "Python 3",
   "language": "python",
   "name": "python3"
  },
  "language_info": {
   "codemirror_mode": {
    "name": "ipython",
    "version": 3
   },
   "file_extension": ".py",
   "mimetype": "text/x-python",
   "name": "python",
   "nbconvert_exporter": "python",
   "pygments_lexer": "ipython3",
   "version": "3.5.1"
  }
 },
 "nbformat": 4,
 "nbformat_minor": 0
}
