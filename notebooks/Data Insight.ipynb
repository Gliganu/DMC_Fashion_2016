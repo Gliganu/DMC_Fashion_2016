{
 "cells": [
  {
   "cell_type": "code",
   "execution_count": 11,
   "metadata": {
    "collapsed": false
   },
   "outputs": [],
   "source": [
    "import pandas as pd\n",
    "import numpy as np\n",
    "import seaborn as sns\n",
    "import matplotlib.pyplot as plt\n",
    "%matplotlib inline\n"
   ]
  },
  {
   "cell_type": "code",
   "execution_count": 23,
   "metadata": {
    "collapsed": true
   },
   "outputs": [],
   "source": [
    "# inputFileName = '..\\\\data\\\\orders_train_short.txt'\n",
    "inputFileName = '..\\\\data\\\\orders_train.txt'\n",
    "data = pd.read_csv(inputFileName, delimiter=';', skipinitialspace=True)"
   ]
  },
  {
   "cell_type": "markdown",
   "metadata": {},
   "source": [
    "How many unique instances in each column"
   ]
  },
  {
   "cell_type": "code",
   "execution_count": 24,
   "metadata": {
    "collapsed": false
   },
   "outputs": [
    {
     "name": "stdout",
     "output_type": "stream",
     "text": [
      "orderID : 738698 \n",
      "orderDate : 638 \n",
      "articleID : 3823 \n",
      "colorCode : 546 \n",
      "sizeCode : 29 \n",
      "productGroup : 19 \n",
      "quantity : 11 \n",
      "price : 235 \n",
      "rrp : 46 \n",
      "voucherID : 671 \n",
      "voucherAmount : 1549 \n",
      "customerID : 311369 \n",
      "deviceID : 5 \n",
      "paymentMethod : 10 \n",
      "returnQuantity : 6 \n"
     ]
    }
   ],
   "source": [
    "\n",
    "for column in data.columns:\n",
    "    print \"{} : {} \".format(column,data[column].unique().shape[0])"
   ]
  },
  {
   "cell_type": "markdown",
   "metadata": {},
   "source": [
    "How many missing values in each columns"
   ]
  },
  {
   "cell_type": "code",
   "execution_count": 27,
   "metadata": {
    "collapsed": false
   },
   "outputs": [
    {
     "data": {
      "text/plain": [
       "orderID             0\n",
       "orderDate           0\n",
       "articleID           0\n",
       "colorCode           0\n",
       "sizeCode            0\n",
       "productGroup      351\n",
       "quantity            0\n",
       "price               0\n",
       "rrp               351\n",
       "voucherID           6\n",
       "voucherAmount       0\n",
       "customerID          0\n",
       "deviceID            0\n",
       "paymentMethod       0\n",
       "returnQuantity      0\n",
       "dtype: int64"
      ]
     },
     "execution_count": 27,
     "metadata": {},
     "output_type": "execute_result"
    }
   ],
   "source": [
    "data.isnull().sum()"
   ]
  },
  {
   "cell_type": "code",
   "execution_count": null,
   "metadata": {
    "collapsed": true
   },
   "outputs": [],
   "source": []
  }
 ],
 "metadata": {
  "kernelspec": {
   "display_name": "Python 2",
   "language": "python",
   "name": "python2"
  },
  "language_info": {
   "codemirror_mode": {
    "name": "ipython",
    "version": 2
   },
   "file_extension": ".py",
   "mimetype": "text/x-python",
   "name": "python",
   "nbconvert_exporter": "python",
   "pygments_lexer": "ipython2",
   "version": "2.7.11"
  }
 },
 "nbformat": 4,
 "nbformat_minor": 0
}
