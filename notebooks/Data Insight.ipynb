{
 "cells": [
  {
   "cell_type": "code",
   "execution_count": 3,
   "metadata": {
    "collapsed": false
   },
   "outputs": [],
   "source": [
    "import pandas as pd\n",
    "import numpy as np\n",
    "import matplotlib.pyplot as plt\n",
    "%matplotlib inline\n"
   ]
  },
  {
   "cell_type": "code",
   "execution_count": 4,
   "metadata": {
    "collapsed": false
   },
   "outputs": [],
   "source": [
    "# inputFileName = '..\\\\data\\\\orders_train_short.txt'\n",
    "inputFileName = '..\\\\data\\\\orders_train.txt'\n",
    "data = pd.read_csv(inputFileName, delimiter=';', skipinitialspace=True)"
   ]
  },
  {
   "cell_type": "markdown",
   "metadata": {},
   "source": [
    "How many unique instances in each column"
   ]
  },
  {
   "cell_type": "code",
   "execution_count": 6,
   "metadata": {
    "collapsed": false
   },
   "outputs": [
    {
     "name": "stdout",
     "output_type": "stream",
     "text": [
      "orderID : 738698 \n",
      "orderDate : 638 \n",
      "articleID : 3823 \n",
      "colorCode : 546 \n",
      "sizeCode : 29 \n",
      "productGroup : 19 \n",
      "quantity : 11 \n",
      "price : 235 \n",
      "rrp : 46 \n",
      "voucherID : 671 \n",
      "voucherAmount : 1549 \n",
      "customerID : 311369 \n",
      "deviceID : 5 \n",
      "paymentMethod : 10 \n",
      "returnQuantity : 6 \n"
     ]
    }
   ],
   "source": [
    "\n",
    "for column in data.columns:\n",
    "    print (\"{} : {} \".format(column,data[column].unique().shape[0]))"
   ]
  },
  {
   "cell_type": "markdown",
   "metadata": {},
   "source": [
    "How many missing values in each columns"
   ]
  },
  {
   "cell_type": "code",
   "execution_count": null,
   "metadata": {
    "collapsed": false
   },
   "outputs": [],
   "source": [
    "data.isnull().sum()"
   ]
  },
  {
   "cell_type": "code",
   "execution_count": null,
   "metadata": {
    "collapsed": true
   },
   "outputs": [],
   "source": []
  }
 ],
 "metadata": {
  "kernelspec": {
   "display_name": "Python 3",
   "language": "python",
   "name": "python3"
  },
  "language_info": {
   "codemirror_mode": {
    "name": "ipython",
    "version": 3
   },
   "file_extension": ".py",
   "mimetype": "text/x-python",
   "name": "python",
   "nbconvert_exporter": "python",
   "pygments_lexer": "ipython3",
   "version": "3.5.1"
  }
 },
 "nbformat": 4,
 "nbformat_minor": 0
}
