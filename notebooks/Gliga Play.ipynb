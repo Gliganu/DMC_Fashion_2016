{
 "cells": [
  {
   "cell_type": "code",
   "execution_count": 7,
   "metadata": {
    "collapsed": true
   },
   "outputs": [],
   "source": [
    "import pandas as pd\n",
    "import numpy as np\n",
    "import math\n",
    "import matplotlib.pyplot as plt\n",
    "%matplotlib inline"
   ]
  },
  {
   "cell_type": "code",
   "execution_count": 2,
   "metadata": {
    "collapsed": true
   },
   "outputs": [],
   "source": [
    "# inputFileName = '..\\\\data\\\\orders_train_short.txt'\n",
    "inputFileName = '..\\\\data\\\\orders_train_1k.txt'\n",
    "data = pd.read_csv(inputFileName, delimiter=';', skipinitialspace=True)"
   ]
  },
  {
   "cell_type": "code",
   "execution_count": 20,
   "metadata": {
    "collapsed": false
   },
   "outputs": [],
   "source": [
    "test_size = 0.5\n",
    "numberTraining = math.ceil(data.shape[0] * (1-test_size))\n",
    "trainData = data.iloc[0: numberTraining]\n",
    "testData = data.iloc[numberTraining:]\n"
   ]
  },
  {
   "cell_type": "code",
   "execution_count": 21,
   "metadata": {
    "collapsed": false
   },
   "outputs": [
    {
     "name": "stdout",
     "output_type": "stream",
     "text": [
      "(500, 15)\n",
      "(499, 15)\n"
     ]
    }
   ],
   "source": [
    "print(trainData.shape)\n",
    "print(testData.shape)"
   ]
  },
  {
   "cell_type": "code",
   "execution_count": 41,
   "metadata": {
    "collapsed": true
   },
   "outputs": [],
   "source": [
    "data['articleIdSuffix'] = data['articleID'].apply(lambda id: int(id[4:]))\n"
   ]
  },
  {
   "cell_type": "code",
   "execution_count": 42,
   "metadata": {
    "collapsed": false
   },
   "outputs": [
    {
     "data": {
      "text/plain": [
       "0       382\n",
       "1       550\n",
       "2      1991\n",
       "3      1999\n",
       "4      1942\n",
       "5      1942\n",
       "6      1974\n",
       "7      1976\n",
       "8      2392\n",
       "9      2457\n",
       "10      366\n",
       "11      406\n",
       "12      406\n",
       "13     1957\n",
       "14     1993\n",
       "15       12\n",
       "16       24\n",
       "17      235\n",
       "18     1642\n",
       "19     1767\n",
       "20     1768\n",
       "21     2263\n",
       "22     2266\n",
       "23     2268\n",
       "24     2269\n",
       "25     1485\n",
       "26     1486\n",
       "27     1486\n",
       "28     2067\n",
       "29     2243\n",
       "       ... \n",
       "969     395\n",
       "970     395\n",
       "971    1942\n",
       "972    2089\n",
       "973    2266\n",
       "974    2272\n",
       "975     320\n",
       "976     334\n",
       "977    1179\n",
       "978    1179\n",
       "979    2017\n",
       "980    3073\n",
       "981      85\n",
       "982     513\n",
       "983    1502\n",
       "984     390\n",
       "985     554\n",
       "986     571\n",
       "987     335\n",
       "988    2208\n",
       "989    2525\n",
       "990    2975\n",
       "991     537\n",
       "992    3000\n",
       "993     339\n",
       "994     339\n",
       "995    1942\n",
       "996    1942\n",
       "997    1954\n",
       "998    1987\n",
       "Name: articleIdSuffix, dtype: int64"
      ]
     },
     "execution_count": 42,
     "metadata": {},
     "output_type": "execute_result"
    }
   ],
   "source": [
    "data['articleIdSuffix'] "
   ]
  },
  {
   "cell_type": "code",
   "execution_count": 36,
   "metadata": {
    "collapsed": false
   },
   "outputs": [
    {
     "data": {
      "text/plain": [
       "Series([], Name: articleIdSuffix, dtype: int64)"
      ]
     },
     "execution_count": 36,
     "metadata": {},
     "output_type": "execute_result"
    }
   ],
   "source": [
    "data.loc[data.articleIdSuffix > 10000, 'articleIdSuffix']"
   ]
  },
  {
   "cell_type": "code",
   "execution_count": 45,
   "metadata": {
    "collapsed": false
   },
   "outputs": [
    {
     "data": {
      "text/plain": [
       "['orderID',\n",
       " 'orderDate',\n",
       " 'articleID',\n",
       " 'colorCode',\n",
       " 'sizeCode',\n",
       " 'productGroup',\n",
       " 'quantity',\n",
       " 'price',\n",
       " 'rrp',\n",
       " 'voucherID',\n",
       " 'voucherAmount',\n",
       " 'customerID',\n",
       " 'deviceID',\n",
       " 'paymentMethod',\n",
       " 'articleIdSuffix']"
      ]
     },
     "execution_count": 45,
     "metadata": {},
     "output_type": "execute_result"
    }
   ],
   "source": [
    "[x for x in data.columns if x != 'returnQuantity']"
   ]
  },
  {
   "cell_type": "code",
   "execution_count": 50,
   "metadata": {
    "collapsed": true
   },
   "outputs": [],
   "source": [
    "from collections import defaultdict\n",
    "\n",
    "d = defaultdict(lambda: 0)\n",
    "d['a'] = 'a'"
   ]
  },
  {
   "cell_type": "code",
   "execution_count": 51,
   "metadata": {
    "collapsed": false
   },
   "outputs": [
    {
     "data": {
      "text/plain": [
       "'a'"
      ]
     },
     "execution_count": 51,
     "metadata": {},
     "output_type": "execute_result"
    }
   ],
   "source": [
    "d['a']"
   ]
  },
  {
   "cell_type": "code",
   "execution_count": 52,
   "metadata": {
    "collapsed": false
   },
   "outputs": [
    {
     "data": {
      "text/plain": [
       "0"
      ]
     },
     "execution_count": 52,
     "metadata": {},
     "output_type": "execute_result"
    }
   ],
   "source": [
    "d[\"asdsa\"]"
   ]
  },
  {
   "cell_type": "code",
   "execution_count": null,
   "metadata": {
    "collapsed": true
   },
   "outputs": [],
   "source": []
  }
 ],
 "metadata": {
  "kernelspec": {
   "display_name": "Python 3",
   "language": "python",
   "name": "python3"
  },
  "language_info": {
   "codemirror_mode": {
    "name": "ipython",
    "version": 3
   },
   "file_extension": ".py",
   "mimetype": "text/x-python",
   "name": "python",
   "nbconvert_exporter": "python",
   "pygments_lexer": "ipython3",
   "version": "3.5.1"
  }
 },
 "nbformat": 4,
 "nbformat_minor": 0
}
