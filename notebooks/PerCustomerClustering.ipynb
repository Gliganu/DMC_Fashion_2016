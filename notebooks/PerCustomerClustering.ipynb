{
 "cells": [
  {
   "cell_type": "code",
   "execution_count": 169,
   "metadata": {
    "collapsed": true
   },
   "outputs": [],
   "source": [
    "import sys\n",
    "import pandas as pd\n",
    "import pickle\n",
    "import numpy as np\n",
    "\n",
    "from sklearn.cluster import KMeans\n",
    "\n",
    "#make zaCode visible from this notebook\n",
    "if '..' not in sys.path:\n",
    "    sys.path.insert(0, '..')\n",
    "    \n",
    "from zaCode import DatasetManipulator\n",
    "from zaCode import ClassifierTrainer\n",
    "from zaCode import Validator\n",
    "from zaCode import FileManager"
   ]
  },
  {
   "cell_type": "code",
   "execution_count": 170,
   "metadata": {
    "collapsed": true
   },
   "outputs": [],
   "source": [
    "initData = FileManager.get10kTrainingData()"
   ]
  },
  {
   "cell_type": "code",
   "execution_count": 171,
   "metadata": {
    "collapsed": true
   },
   "outputs": [],
   "source": [
    "initData = DatasetManipulator.dropMissingValues(initData)\n",
    "initData = DatasetManipulator.normalizeSize(initData)\n",
    "initData = DatasetManipulator.performColorCodeEngineering(initData)\n",
    "initData = DatasetManipulator.performColorCodeEngineering(initData)\n",
    "\n",
    "trainDataInit, testDataInit = DatasetManipulator.performTrainTestSplit(initData,0.25)"
   ]
  },
  {
   "cell_type": "code",
   "execution_count": 172,
   "metadata": {
    "collapsed": true
   },
   "outputs": [],
   "source": [
    "def getCustomerClusteringDataframe(trainData):\n",
    "    \n",
    "    medianColumns = ['colorCode','productGroup','deviceID','paymentMethod']\n",
    "    meanColumns = ['normalisedSizeCode','price','rrp','quantity']\n",
    "    \n",
    "    medianData = trainData[medianColumns].groupby(trainData['customerID'])\n",
    "    meanData = trainData[meanColumns].groupby(trainData['customerID'])\n",
    "    \n",
    "    dataMedianByCustomer = medianData.median()\n",
    "    dataMeanByCustomer = meanData.mean()\n",
    "\n",
    "    clusteringTrainData = dataMedianByCustomer.join(dataMeanByCustomer)\n",
    "    \n",
    "    return clusteringTrainData"
   ]
  },
  {
   "cell_type": "code",
   "execution_count": 178,
   "metadata": {
    "collapsed": true
   },
   "outputs": [],
   "source": [
    "def getKnownCustomerIDToPercentageReturnDict(trainData):\n",
    "    print(\"Constructing PercentageReturn feature....\")\n",
    "\n",
    "    # avoid chain indexing warning\n",
    "    trainDataCopy = trainData.copy()\n",
    "    testDataCopy = testData.copy()\n",
    "\n",
    "    # construct the dictionary only on the information in the training set\n",
    "    dataByCustomer = trainDataCopy[['quantity', 'returnQuantity']].groupby(trainDataCopy['customerID'])\n",
    "\n",
    "    dataSummedByCustomer = dataByCustomer.apply(sum)\n",
    "    dataSummedByCustomer['percentageReturned'] = dataSummedByCustomer['returnQuantity'] / dataSummedByCustomer[\n",
    "        'quantity'].apply(lambda x: max(1, x))\n",
    "\n",
    "    dataSummedByCustomer = dataSummedByCustomer.drop(['returnQuantity', 'quantity'], 1)\n",
    "\n",
    "    customerIDtoPercentageReturnDict = dataSummedByCustomer.to_dict().get('percentageReturned')\n",
    "    \n",
    "    return customerIDtoPercentageReturnDict\n",
    "    "
   ]
  },
  {
   "cell_type": "code",
   "execution_count": 198,
   "metadata": {
    "collapsed": false
   },
   "outputs": [],
   "source": [
    "def getFullCustomerIDToPercentageReturnDict(clusteringTrainData,clusteringTestData,knownCustomerIdToPercentageReturnDict):\n",
    "   \n",
    "    n_clusters = 100\n",
    "    \n",
    "    #compute the clusters based on the training data\n",
    "    clusteringTrainDataValues = clusteringTrainData.values\n",
    "    kMeans = KMeans(n_clusters=n_clusters)\n",
    "    kMeans.fit(clusteringTrainDataValues)\n",
    "    labels = kMeans.labels_\n",
    "    centroids = kMeans.cluster_centers_\n",
    "    \n",
    "    #append the cluster index column to the dataframe\n",
    "    trainDataCopy = clusteringTrainData.copy()\n",
    "    trainDataCopy.loc[:, 'clusterIndex'] = labels\n",
    "    trainDataCopy.loc[:, 'percentageReturned'] = trainDataCopy.index.map((lambda custId: knownCustomerIdToPercentageReturnDict[custId]))\n",
    "    \n",
    "    \n",
    "    testDataCopy = clusteringTestData.copy()\n",
    "    \n",
    "    clusterLabelToPercentageReturnDict = {}\n",
    "\n",
    "    #for each cluster, compute it's percentage return average based on the percReturn of the train data\n",
    "    for i in range(n_clusters):\n",
    "        customersInCluster = trainDataCopy[trainDataCopy['clusterIndex'] == i]\n",
    "        average = customersInCluster['percentageReturned'].mean()\n",
    "        clusterLabelToPercentageReturnDict[i] = average\n",
    "        \n",
    "    print(clusterLabelToPercentageReturnDict)\n",
    "    \n",
    "    #predict in which cluster the entries in the test data will be\n",
    "    predictedTestLabels = kMeans.predict(testDataCopy)\n",
    "    testDataCopy.loc[:, 'clusterIndex'] = predictedTestLabels\n",
    "    \n",
    "    #set the percReturn of that entry to the mean of that belonging cluster\n",
    "    testDataCopy.loc[:, 'percentageReturned'] = testDataCopy['clusterIndex'].apply(lambda clusterIndex: clusterLabelToPercentageReturnDict[clusterIndex])\n",
    "        \n",
    "    \n",
    "    testCustomerIdToPercentageReturnDict = testDataCopy.to_dict().get('percentageReturned')\n",
    "    \n",
    "    #merge the 2 dictionaries\n",
    "    knownCustomerIdToPercentageReturnDict.update(testCustomerIdToPercentageReturnDict)\n",
    "    \n",
    "    return knownCustomerIdToPercentageReturnDict"
   ]
  },
  {
   "cell_type": "code",
   "execution_count": 199,
   "metadata": {
    "collapsed": false
   },
   "outputs": [
    {
     "name": "stdout",
     "output_type": "stream",
     "text": [
      "Constructing PercentageReturn feature....\n",
      "Known: Unique customers: (2450,)\n",
      "Known: Dict Length: 2450\n",
      "{0: 0.4564516129032258, 1: 0.19230769230769232, 2: 0.4940199335548172, 3: 0.5323529411764706, 4: 0.4375, 5: 0.7222222222222222, 6: 0.9, 7: 0.5710144927536233, 8: 0.53125, 9: 0.36974637681159417, 10: 0.5694170771756979, 11: 0.557936507936508, 12: 0.2802721088435374, 13: 0.6666666666666666, 14: 0.47238372093023245, 15: 0.34175734175734174, 16: 1.0, 17: 0.385863697705803, 18: 0.6604238354238355, 19: 0.75, 20: 0.23990310764504316, 21: 0.44098780007870914, 22: 0.5173611111111112, 23: 1.0, 24: 0.48553275920297195, 25: 0.5729476405946996, 26: 0.5102564102564102, 27: 0.7933333333333333, 28: 0.5833333333333334, 29: 0.5438596491228069, 30: 0.5009872241579559, 31: 0.5094202898550725, 32: 0.4, 33: 0.2952380952380952, 34: 0.5222222222222223, 35: 1.0, 36: 0.5361077481840193, 37: 0.5195011337868481, 38: 0.5072649572649574, 39: 0.625, 40: 0.5114942528735632, 41: 0.8333333333333333, 42: 0.5, 43: 0.4307692307692308, 44: 0.6666666666666666, 45: 0.641919191919192, 46: 0.36728395061728397, 47: 0.2333333333333333, 48: 0.45788030682767517, 49: 0.7270833333333333, 50: 0.3236269754342043, 51: 0.7777777777777778, 52: 0.625, 53: 0.45666666666666667, 54: 0.3425925925925926, 55: 0.552536231884058, 56: 0.0, 57: 0.25, 58: 0.5662008281573498, 59: 0.6944444444444443, 60: 0.5277777777777778, 61: 0.564781746031746, 62: 0.5018212427303336, 63: 0.6389880952380952, 64: 0.5225336548121358, 65: 0.0, 66: 0.6666666666666666, 67: 0.4043219461697722, 68: 0.42857142857142855, 69: 1.0, 70: 0.22222222222222224, 71: 0.2833333333333333, 72: 0.477281746031746, 73: 0.5138888888888888, 74: 0.3775873015873016, 75: 0.38409475329978676, 76: 0.375, 77: 0.32291666666666663, 78: 0.638328664799253, 79: 0.25, 80: 0.2857142857142857, 81: 0.375, 82: 0.25486111111111115, 83: 0.6429563492063494, 84: 0.5492610837438424, 85: 0.29411764705882354, 86: 0.35185185185185186, 87: 1.0, 88: 0.43347544711181074, 89: 0.5482456140350878, 90: 0.40997890997891, 91: 0.5555555555555556, 92: 0.3576007326007326, 93: 0.45238095238095233, 94: 0.5, 95: 0.5, 96: 0.4463789682539683, 97: 0.5, 98: 0.5, 99: 0.5203081232492996}\n"
     ]
    }
   ],
   "source": [
    "clusteringTrainData = getCustomerClusteringDataframe(trainDataInit)\n",
    "clusteringTestData = getCustomerClusteringDataframe(testDataInit)\n",
    "\n",
    "knownCustomerIdToPercentageReturnDict = getKnownCustomerIDToPercentageReturnDict(trainDataInit)\n",
    "\n",
    "knownCustomerIdToPercentageReturnDict= getFullCustomerIDToPercentageReturnDict(clusteringTrainData,clusteringTestData,knownCustomerIdToPercentageReturnDict)"
   ]
  },
  {
   "cell_type": "code",
   "execution_count": 201,
   "metadata": {
    "collapsed": false
   },
   "outputs": [
    {
     "name": "stderr",
     "output_type": "stream",
     "text": [
      "C:\\Users\\bogdang\\AppData\\Local\\Continuum\\Anaconda3\\lib\\site-packages\\pandas\\core\\indexing.py:284: SettingWithCopyWarning: \n",
      "A value is trying to be set on a copy of a slice from a DataFrame.\n",
      "Try using .loc[row_indexer,col_indexer] = value instead\n",
      "\n",
      "See the caveats in the documentation: http://pandas.pydata.org/pandas-docs/stable/indexing.html#indexing-view-versus-copy\n",
      "  self.obj[key] = _infer_fill_value(value)\n",
      "C:\\Users\\bogdang\\AppData\\Local\\Continuum\\Anaconda3\\lib\\site-packages\\pandas\\core\\indexing.py:461: SettingWithCopyWarning: \n",
      "A value is trying to be set on a copy of a slice from a DataFrame.\n",
      "Try using .loc[row_indexer,col_indexer] = value instead\n",
      "\n",
      "See the caveats in the documentation: http://pandas.pydata.org/pandas-docs/stable/indexing.html#indexing-view-versus-copy\n",
      "  self.obj[item] = s\n"
     ]
    }
   ],
   "source": [
    "testDataInit.loc[:, 'percentageReturned'] = testDataInit['customerID'].apply(lambda custId: knownCustomerIdToPercentageReturnDict[custId])"
   ]
  },
  {
   "cell_type": "code",
   "execution_count": 212,
   "metadata": {
    "collapsed": false
   },
   "outputs": [
    {
     "name": "stdout",
     "output_type": "stream",
     "text": [
      "(741, 16)\n",
      "(432, 16)\n",
      "(647, 16)\n",
      "(663, 16)\n"
     ]
    }
   ],
   "source": [
    "print (testDataInit[(testDataInit.percentageReturned > 0.5) & (testDataInit.returnQuantity == 1)].shape)\n",
    "print (testDataInit[(testDataInit.percentageReturned > 0.5) & (testDataInit.returnQuantity == 0)].shape)\n",
    "\n",
    "print (testDataInit[(testDataInit.percentageReturned < 0.5) & (testDataInit.returnQuantity == 1)].shape)\n",
    "print (testDataInit[(testDataInit.percentageReturned < 0.5) & (testDataInit.returnQuantity == 0)].shape)"
   ]
  },
  {
   "cell_type": "code",
   "execution_count": 214,
   "metadata": {
    "collapsed": false
   },
   "outputs": [
    {
     "data": {
      "text/plain": [
       "array([ 0.43347545,  0.43347545,  0.64295635, ...,  0.50726496,\n",
       "        0.32362698,  0.69444444])"
      ]
     },
     "execution_count": 214,
     "metadata": {},
     "output_type": "execute_result"
    }
   ],
   "source": [
    "testDataInit['percentageReturned'].values"
   ]
  }
 ],
 "metadata": {
  "kernelspec": {
   "display_name": "Python 3",
   "language": "python",
   "name": "python3"
  },
  "language_info": {
   "codemirror_mode": {
    "name": "ipython",
    "version": 3
   },
   "file_extension": ".py",
   "mimetype": "text/x-python",
   "name": "python",
   "nbconvert_exporter": "python",
   "pygments_lexer": "ipython3",
   "version": "3.5.1"
  }
 },
 "nbformat": 4,
 "nbformat_minor": 0
}
