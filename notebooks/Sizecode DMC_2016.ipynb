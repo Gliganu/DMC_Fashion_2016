{
 "cells": [
  {
   "cell_type": "code",
   "execution_count": 137,
   "metadata": {
    "collapsed": true
   },
   "outputs": [],
   "source": [
    "import pandas as pd"
   ]
  },
  {
   "cell_type": "code",
   "execution_count": 138,
   "metadata": {
    "collapsed": true
   },
   "outputs": [],
   "source": [
    "inputFileName = 'C:\\\\Users\\\\silviana campian\\\\Desktop\\\\data mining cup\\\\DMC_Fashion_2016\\\\data\\\\orders_train_1K.txt'"
   ]
  },
  {
   "cell_type": "code",
   "execution_count": 139,
   "metadata": {
    "collapsed": true
   },
   "outputs": [],
   "source": [
    "data = pd.read_csv(inputFileName, delimiter=';', skipinitialspace=True)"
   ]
  },
  {
   "cell_type": "code",
   "execution_count": 140,
   "metadata": {
    "collapsed": false,
    "scrolled": true
   },
   "outputs": [
    {
     "data": {
      "text/html": [
       "<div>\n",
       "<table border=\"1\" class=\"dataframe\">\n",
       "  <thead>\n",
       "    <tr style=\"text-align: right;\">\n",
       "      <th></th>\n",
       "      <th>orderID</th>\n",
       "      <th>orderDate</th>\n",
       "      <th>articleID</th>\n",
       "      <th>colorCode</th>\n",
       "      <th>sizeCode</th>\n",
       "      <th>productGroup</th>\n",
       "      <th>quantity</th>\n",
       "      <th>price</th>\n",
       "      <th>rrp</th>\n",
       "      <th>voucherID</th>\n",
       "      <th>voucherAmount</th>\n",
       "      <th>customerID</th>\n",
       "      <th>deviceID</th>\n",
       "      <th>paymentMethod</th>\n",
       "      <th>returnQuantity</th>\n",
       "    </tr>\n",
       "  </thead>\n",
       "  <tbody>\n",
       "    <tr>\n",
       "      <th>0</th>\n",
       "      <td>a1000001</td>\n",
       "      <td>2014-01-01</td>\n",
       "      <td>i1000382</td>\n",
       "      <td>1972</td>\n",
       "      <td>44</td>\n",
       "      <td>3</td>\n",
       "      <td>1</td>\n",
       "      <td>10.00</td>\n",
       "      <td>29.99</td>\n",
       "      <td>0</td>\n",
       "      <td>0</td>\n",
       "      <td>c1010575</td>\n",
       "      <td>2</td>\n",
       "      <td>BPRG</td>\n",
       "      <td>0</td>\n",
       "    </tr>\n",
       "    <tr>\n",
       "      <th>1</th>\n",
       "      <td>a1000001</td>\n",
       "      <td>2014-01-01</td>\n",
       "      <td>i1000550</td>\n",
       "      <td>3854</td>\n",
       "      <td>44</td>\n",
       "      <td>3</td>\n",
       "      <td>1</td>\n",
       "      <td>20.00</td>\n",
       "      <td>39.99</td>\n",
       "      <td>0</td>\n",
       "      <td>0</td>\n",
       "      <td>c1010575</td>\n",
       "      <td>2</td>\n",
       "      <td>BPRG</td>\n",
       "      <td>0</td>\n",
       "    </tr>\n",
       "    <tr>\n",
       "      <th>2</th>\n",
       "      <td>a1000002</td>\n",
       "      <td>2014-01-01</td>\n",
       "      <td>i1001991</td>\n",
       "      <td>2974</td>\n",
       "      <td>38</td>\n",
       "      <td>8</td>\n",
       "      <td>1</td>\n",
       "      <td>35.00</td>\n",
       "      <td>49.99</td>\n",
       "      <td>0</td>\n",
       "      <td>0</td>\n",
       "      <td>c1045905</td>\n",
       "      <td>4</td>\n",
       "      <td>BPRG</td>\n",
       "      <td>0</td>\n",
       "    </tr>\n",
       "    <tr>\n",
       "      <th>3</th>\n",
       "      <td>a1000002</td>\n",
       "      <td>2014-01-01</td>\n",
       "      <td>i1001999</td>\n",
       "      <td>1992</td>\n",
       "      <td>38</td>\n",
       "      <td>8</td>\n",
       "      <td>1</td>\n",
       "      <td>49.99</td>\n",
       "      <td>49.99</td>\n",
       "      <td>0</td>\n",
       "      <td>0</td>\n",
       "      <td>c1045905</td>\n",
       "      <td>4</td>\n",
       "      <td>BPRG</td>\n",
       "      <td>1</td>\n",
       "    </tr>\n",
       "    <tr>\n",
       "      <th>4</th>\n",
       "      <td>a1000003</td>\n",
       "      <td>2014-01-01</td>\n",
       "      <td>i1001942</td>\n",
       "      <td>1968</td>\n",
       "      <td>42</td>\n",
       "      <td>8</td>\n",
       "      <td>1</td>\n",
       "      <td>10.00</td>\n",
       "      <td>35.99</td>\n",
       "      <td>0</td>\n",
       "      <td>0</td>\n",
       "      <td>c1089295</td>\n",
       "      <td>2</td>\n",
       "      <td>PAYPALVC</td>\n",
       "      <td>0</td>\n",
       "    </tr>\n",
       "  </tbody>\n",
       "</table>\n",
       "</div>"
      ],
      "text/plain": [
       "    orderID   orderDate articleID  colorCode sizeCode  productGroup  quantity  \\\n",
       "0  a1000001  2014-01-01  i1000382       1972       44             3         1   \n",
       "1  a1000001  2014-01-01  i1000550       3854       44             3         1   \n",
       "2  a1000002  2014-01-01  i1001991       2974       38             8         1   \n",
       "3  a1000002  2014-01-01  i1001999       1992       38             8         1   \n",
       "4  a1000003  2014-01-01  i1001942       1968       42             8         1   \n",
       "\n",
       "   price    rrp voucherID  voucherAmount customerID  deviceID paymentMethod  \\\n",
       "0  10.00  29.99         0              0   c1010575         2          BPRG   \n",
       "1  20.00  39.99         0              0   c1010575         2          BPRG   \n",
       "2  35.00  49.99         0              0   c1045905         4          BPRG   \n",
       "3  49.99  49.99         0              0   c1045905         4          BPRG   \n",
       "4  10.00  35.99         0              0   c1089295         2      PAYPALVC   \n",
       "\n",
       "   returnQuantity  \n",
       "0               0  \n",
       "1               0  \n",
       "2               0  \n",
       "3               1  \n",
       "4               0  "
      ]
     },
     "execution_count": 140,
     "metadata": {},
     "output_type": "execute_result"
    }
   ],
   "source": [
    "data.head()"
   ]
  },
  {
   "cell_type": "code",
   "execution_count": 141,
   "metadata": {
    "collapsed": false
   },
   "outputs": [],
   "source": [
    "data.loc[(data.sizeCode=='XS'), 'sizeCode'] = 0\n",
    "data.loc[(data.sizeCode=='S'), 'sizeCode'] = 1\n",
    "data.loc[(data.sizeCode=='M'), 'sizeCode'] = 2\n",
    "data.loc[(data.sizeCode=='L'), 'sizeCode'] = 3\n",
    "data.loc[(data.sizeCode=='XL'), 'sizeCode'] = 4\n",
    "# set A and I on 2 for now\n",
    "data.loc[(data.sizeCode=='I'), 'sizeCode'] = 2\n",
    "data.loc[(data.sizeCode=='A'), 'sizeCode'] = 2"
   ]
  },
  {
   "cell_type": "code",
   "execution_count": 142,
   "metadata": {
    "collapsed": false
   },
   "outputs": [
    {
     "data": {
      "text/plain": [
       "(0, 15)"
      ]
     },
     "execution_count": 142,
     "metadata": {},
     "output_type": "execute_result"
    }
   ],
   "source": [
    "# make sure there are no more Character sizes\n",
    "data.loc[(data.sizeCode=='XS') | (data.sizeCode=='S') | (data.sizeCode=='M') | (data.sizeCode == 'L') | (data.sizeCode == 'XL')\n",
    "         | (data.sizeCode == 'I') | (data.sizeCode == 'A')].shape"
   ]
  },
  {
   "cell_type": "code",
   "execution_count": 143,
   "metadata": {
    "collapsed": false
   },
   "outputs": [
    {
     "data": {
      "text/plain": [
       "count     999\n",
       "unique     17\n",
       "top        42\n",
       "freq      174\n",
       "Name: sizeCode, dtype: object"
      ]
     },
     "execution_count": 143,
     "metadata": {},
     "output_type": "execute_result"
    }
   ],
   "source": [
    "data['sizeCode'].describe()"
   ]
  },
  {
   "cell_type": "code",
   "execution_count": 144,
   "metadata": {
    "collapsed": false
   },
   "outputs": [
    {
     "name": "stdout",
     "output_type": "stream",
     "text": [
      "<class 'pandas.core.frame.DataFrame'>\n",
      "RangeIndex: 999 entries, 0 to 998\n",
      "Data columns (total 15 columns):\n",
      "orderID           999 non-null object\n",
      "orderDate         999 non-null object\n",
      "articleID         999 non-null object\n",
      "colorCode         999 non-null int64\n",
      "sizeCode          999 non-null object\n",
      "productGroup      999 non-null int64\n",
      "quantity          999 non-null int64\n",
      "price             999 non-null float64\n",
      "rrp               999 non-null float64\n",
      "voucherID         999 non-null object\n",
      "voucherAmount     999 non-null int64\n",
      "customerID        999 non-null object\n",
      "deviceID          999 non-null int64\n",
      "paymentMethod     999 non-null object\n",
      "returnQuantity    999 non-null int64\n",
      "dtypes: float64(2), int64(6), object(7)\n",
      "memory usage: 117.1+ KB\n"
     ]
    }
   ],
   "source": [
    "data.info()"
   ]
  },
  {
   "cell_type": "code",
   "execution_count": 145,
   "metadata": {
    "collapsed": true
   },
   "outputs": [],
   "source": [
    "data.loc[:, 'sizeCode'] = pd.to_numeric(data['sizeCode'])"
   ]
  },
  {
   "cell_type": "code",
   "execution_count": 146,
   "metadata": {
    "collapsed": false
   },
   "outputs": [
    {
     "name": "stdout",
     "output_type": "stream",
     "text": [
      "<class 'pandas.core.frame.DataFrame'>\n",
      "RangeIndex: 999 entries, 0 to 998\n",
      "Data columns (total 15 columns):\n",
      "orderID           999 non-null object\n",
      "orderDate         999 non-null object\n",
      "articleID         999 non-null object\n",
      "colorCode         999 non-null int64\n",
      "sizeCode          999 non-null int64\n",
      "productGroup      999 non-null int64\n",
      "quantity          999 non-null int64\n",
      "price             999 non-null float64\n",
      "rrp               999 non-null float64\n",
      "voucherID         999 non-null object\n",
      "voucherAmount     999 non-null int64\n",
      "customerID        999 non-null object\n",
      "deviceID          999 non-null int64\n",
      "paymentMethod     999 non-null object\n",
      "returnQuantity    999 non-null int64\n",
      "dtypes: float64(2), int64(7), object(6)\n",
      "memory usage: 117.1+ KB\n"
     ]
    }
   ],
   "source": [
    "data.info()"
   ]
  },
  {
   "cell_type": "code",
   "execution_count": 147,
   "metadata": {
    "collapsed": false
   },
   "outputs": [],
   "source": [
    "# normalize XS-XL\n",
    "data.loc[(data.sizeCode >= 0) & (data.sizeCode <= 4), 'sizeCode'] = \\\n",
    "data.loc[(data.sizeCode >= 0) & (data.sizeCode <= 4), 'sizeCode'] / 4.0"
   ]
  },
  {
   "cell_type": "code",
   "execution_count": 148,
   "metadata": {
    "collapsed": false
   },
   "outputs": [
    {
     "data": {
      "text/plain": [
       "83"
      ]
     },
     "execution_count": 148,
     "metadata": {},
     "output_type": "execute_result"
    }
   ],
   "source": [
    "# check if sizes with value below 1 are now existant\n",
    "data.loc[(data.sizeCode <= 1), 'sizeCode'].count()"
   ]
  },
  {
   "cell_type": "code",
   "execution_count": 149,
   "metadata": {
    "collapsed": false
   },
   "outputs": [],
   "source": [
    "# normalize 32-44\n",
    "data.loc[(data.sizeCode <= 44) & (data.sizeCode >= 32), 'sizeCode'] = \\\n",
    "(data.loc[(data.sizeCode <= 44) & (data.sizeCode >= 32), 'sizeCode'] - 32.0) / (44.0 - 32.0)"
   ]
  },
  {
   "cell_type": "code",
   "execution_count": 150,
   "metadata": {
    "collapsed": false
   },
   "outputs": [
    {
     "data": {
      "text/plain": [
       "918"
      ]
     },
     "execution_count": 150,
     "metadata": {},
     "output_type": "execute_result"
    }
   ],
   "source": [
    "data.loc[(data.sizeCode <= 1), 'sizeCode'].count()"
   ]
  },
  {
   "cell_type": "code",
   "execution_count": 151,
   "metadata": {
    "collapsed": true
   },
   "outputs": [],
   "source": [
    "# normalize 24-33\n",
    "data.loc[(data.sizeCode <= 33) & (data.sizeCode >= 24), 'sizeCode'] = \\\n",
    "(data.loc[(data.sizeCode <= 33) & (data.sizeCode >= 24), 'sizeCode'] - 24.0) / (33.0 - 24.0)"
   ]
  },
  {
   "cell_type": "code",
   "execution_count": 152,
   "metadata": {
    "collapsed": false
   },
   "outputs": [
    {
     "data": {
      "text/plain": [
       "998"
      ]
     },
     "execution_count": 152,
     "metadata": {},
     "output_type": "execute_result"
    }
   ],
   "source": [
    "data.loc[(data.sizeCode <= 1), 'sizeCode'].count()"
   ]
  },
  {
   "cell_type": "code",
   "execution_count": 153,
   "metadata": {
    "collapsed": true
   },
   "outputs": [],
   "source": [
    "# normalize 75-100\n",
    "data.loc[(data.sizeCode <= 100) & (data.sizeCode >= 75), 'sizeCode'] = \\\n",
    "(data.loc[(data.sizeCode <= 100) & (data.sizeCode >= 75), 'sizeCode'] - 75.0) / (100.0 - 75.0)"
   ]
  },
  {
   "cell_type": "code",
   "execution_count": 154,
   "metadata": {
    "collapsed": false
   },
   "outputs": [
    {
     "data": {
      "text/plain": [
       "999"
      ]
     },
     "execution_count": 154,
     "metadata": {},
     "output_type": "execute_result"
    }
   ],
   "source": [
    "data.loc[(data.sizeCode <= 1), 'sizeCode'].count()"
   ]
  },
  {
   "cell_type": "code",
   "execution_count": 155,
   "metadata": {
    "collapsed": false
   },
   "outputs": [],
   "source": [
    "# set I and A to mean for the moment\n",
    "data.loc[(data.sizeCode == 2), 'sizeCode'] = data['sizeCode'].mean()"
   ]
  },
  {
   "cell_type": "code",
   "execution_count": 157,
   "metadata": {
    "collapsed": false
   },
   "outputs": [
    {
     "data": {
      "text/plain": [
       "(0, 15)"
      ]
     },
     "execution_count": 157,
     "metadata": {},
     "output_type": "execute_result"
    }
   ],
   "source": [
    "# finally, check that no value is out of bounds\n",
    "data.loc[(data.sizeCode > 1) | (data.sizeCode < 0)].shape"
   ]
  },
  {
   "cell_type": "code",
   "execution_count": 158,
   "metadata": {
    "collapsed": false
   },
   "outputs": [
    {
     "data": {
      "text/plain": [
       "count    999.000000\n",
       "mean       0.619236\n",
       "std        0.264689\n",
       "min        0.000000\n",
       "25%        0.500000\n",
       "50%        0.666667\n",
       "75%        0.833333\n",
       "max        1.000000\n",
       "Name: sizeCode, dtype: float64"
      ]
     },
     "execution_count": 158,
     "metadata": {},
     "output_type": "execute_result"
    }
   ],
   "source": [
    "data['sizeCode'].describe()"
   ]
  }
 ],
 "metadata": {
  "kernelspec": {
   "display_name": "Python 2",
   "language": "python",
   "name": "python2"
  },
  "language_info": {
   "codemirror_mode": {
    "name": "ipython",
    "version": 2
   },
   "file_extension": ".py",
   "mimetype": "text/x-python",
   "name": "python",
   "nbconvert_exporter": "python",
   "pygments_lexer": "ipython2",
   "version": "2.7.11"
  }
 },
 "nbformat": 4,
 "nbformat_minor": 0
}
