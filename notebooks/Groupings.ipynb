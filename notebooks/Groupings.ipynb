{
 "cells": [
  {
   "cell_type": "code",
   "execution_count": 1,
   "metadata": {
    "collapsed": false
   },
   "outputs": [],
   "source": [
    "import pandas as pd\n",
    "import numpy as np\n",
    "import matplotlib.pyplot as plt\n",
    "%matplotlib inline\n",
    "import sys\n",
    "\n",
    "#make zaCode visible from this notebook\n",
    "if '..' not in sys.path:\n",
    "    sys.path.insert(0, '..')\n",
    "    \n",
    "from zaCode import DatasetManipulator\n"
   ]
  },
  {
   "cell_type": "code",
   "execution_count": 2,
   "metadata": {
    "collapsed": true
   },
   "outputs": [],
   "source": [
    "# inputFileName = '..\\\\data\\\\orders_train_short.txt'\n",
    "inputFileName = '..\\\\data\\\\orders_train_1k.txt'\n",
    "data = pd.read_csv(inputFileName, delimiter=';', skipinitialspace=True)\n"
   ]
  },
  {
   "cell_type": "code",
   "execution_count": 3,
   "metadata": {
    "collapsed": false
   },
   "outputs": [],
   "source": [
    "newData = DatasetManipulator.normalizeSize(data)\n",
    "newData = DatasetManipulator.performColorCodeEngineering(data)\n",
    "\n"
   ]
  },
  {
   "cell_type": "code",
   "execution_count": 37,
   "metadata": {
    "collapsed": false
   },
   "outputs": [
    {
     "data": {
      "text/html": [
       "<div>\n",
       "<table border=\"1\" class=\"dataframe\">\n",
       "  <thead>\n",
       "    <tr style=\"text-align: right;\">\n",
       "      <th></th>\n",
       "      <th>colorCode</th>\n",
       "      <th>normalisedSizeCode</th>\n",
       "    </tr>\n",
       "  </thead>\n",
       "  <tbody>\n",
       "    <tr>\n",
       "      <th>0</th>\n",
       "      <td>1</td>\n",
       "      <td>1.000000</td>\n",
       "    </tr>\n",
       "    <tr>\n",
       "      <th>1</th>\n",
       "      <td>3</td>\n",
       "      <td>1.000000</td>\n",
       "    </tr>\n",
       "    <tr>\n",
       "      <th>2</th>\n",
       "      <td>2</td>\n",
       "      <td>0.500000</td>\n",
       "    </tr>\n",
       "    <tr>\n",
       "      <th>3</th>\n",
       "      <td>1</td>\n",
       "      <td>0.500000</td>\n",
       "    </tr>\n",
       "    <tr>\n",
       "      <th>4</th>\n",
       "      <td>1</td>\n",
       "      <td>0.833333</td>\n",
       "    </tr>\n",
       "    <tr>\n",
       "      <th>5</th>\n",
       "      <td>1</td>\n",
       "      <td>0.833333</td>\n",
       "    </tr>\n",
       "    <tr>\n",
       "      <th>6</th>\n",
       "      <td>1</td>\n",
       "      <td>0.833333</td>\n",
       "    </tr>\n",
       "    <tr>\n",
       "      <th>7</th>\n",
       "      <td>3</td>\n",
       "      <td>1.000000</td>\n",
       "    </tr>\n",
       "    <tr>\n",
       "      <th>8</th>\n",
       "      <td>2</td>\n",
       "      <td>0.833333</td>\n",
       "    </tr>\n",
       "    <tr>\n",
       "      <th>9</th>\n",
       "      <td>1</td>\n",
       "      <td>0.833333</td>\n",
       "    </tr>\n",
       "    <tr>\n",
       "      <th>10</th>\n",
       "      <td>1</td>\n",
       "      <td>0.833333</td>\n",
       "    </tr>\n",
       "  </tbody>\n",
       "</table>\n",
       "</div>"
      ],
      "text/plain": [
       "    colorCode  normalisedSizeCode\n",
       "0           1            1.000000\n",
       "1           3            1.000000\n",
       "2           2            0.500000\n",
       "3           1            0.500000\n",
       "4           1            0.833333\n",
       "5           1            0.833333\n",
       "6           1            0.833333\n",
       "7           3            1.000000\n",
       "8           2            0.833333\n",
       "9           1            0.833333\n",
       "10          1            0.833333"
      ]
     },
     "execution_count": 37,
     "metadata": {},
     "output_type": "execute_result"
    }
   ],
   "source": [
    "newData.loc[:10,['colorCode','normalisedSizeCode']]"
   ]
  },
  {
   "cell_type": "code",
   "execution_count": 43,
   "metadata": {
    "collapsed": false
   },
   "outputs": [],
   "source": [
    "newData['normalisedSizeCode'] = pd.to_numeric(newData['normalisedSizeCode'])\n",
    "\n",
    "newData = np.round(newData,2)"
   ]
  },
  {
   "cell_type": "code",
   "execution_count": 50,
   "metadata": {
    "collapsed": true
   },
   "outputs": [],
   "source": [
    "groupedByCustomer = newData[['normalisedSizeCode','colorCode']].groupby(newData['customerID'])"
   ]
  },
  {
   "cell_type": "code",
   "execution_count": null,
   "metadata": {
    "collapsed": true
   },
   "outputs": [],
   "source": [
    "groupedByCustomer.to_dict().get('percentageReturned')"
   ]
  },
  {
   "cell_type": "code",
   "execution_count": 15,
   "metadata": {
    "collapsed": false
   },
   "outputs": [],
   "source": [
    "def constructMedianSizeFeature(data):\n",
    "    data['normalisedSizeCode'] = pd.to_numeric(data['normalisedSizeCode'])\n",
    "    \n",
    "    data = np.round(data,2)\n",
    "    \n",
    "    groupedByCustomer = data[['normalisedSizeCode','colorCode']].groupby(data['customerID'])\n",
    "    \n",
    "    median = groupedByCustomer.median()\n",
    "    \n",
    "    print(median.head())\n",
    "    idToNormalized = median.to_dict().get('normalisedSizeCode')\n",
    "   \n",
    "    \n",
    "    print(newData['customerID'].apply(lambda id : idToNormalized[id])[:10])\n",
    "    \n",
    "    idToColor = median.to_dict().get('colorCode')\n",
    "        \n",
    "    print(newData['customerID'].apply(lambda id : idToColor[id])[:10])"
   ]
  },
  {
   "cell_type": "code",
   "execution_count": 16,
   "metadata": {
    "collapsed": false
   },
   "outputs": [
    {
     "name": "stdout",
     "output_type": "stream",
     "text": [
      "            normalisedSizeCode  colorCode\n",
      "customerID                               \n",
      "c1000034                  0.67        3.0\n",
      "c1000052                  0.65        2.0\n",
      "c1000258                  0.67        1.0\n",
      "c1000504                  0.63        3.0\n",
      "c1000909                  0.33        1.0\n",
      "0    1.00\n",
      "1    1.00\n",
      "2    0.50\n",
      "3    0.50\n",
      "4    0.83\n",
      "5    0.83\n",
      "6    0.83\n",
      "7    0.83\n",
      "8    0.83\n",
      "9    0.83\n",
      "Name: customerID, dtype: float64\n",
      "0    2.0\n",
      "1    2.0\n",
      "2    1.5\n",
      "3    1.5\n",
      "4    1.0\n",
      "5    1.0\n",
      "6    1.0\n",
      "7    1.0\n",
      "8    1.0\n",
      "9    1.0\n",
      "Name: customerID, dtype: float64\n"
     ]
    }
   ],
   "source": [
    "constructMedianSizeFeature(newData)"
   ]
  }
 ],
 "metadata": {
  "kernelspec": {
   "display_name": "Python 3",
   "language": "python",
   "name": "python3"
  },
  "language_info": {
   "codemirror_mode": {
    "name": "ipython",
    "version": 3
   },
   "file_extension": ".py",
   "mimetype": "text/x-python",
   "name": "python",
   "nbconvert_exporter": "python",
   "pygments_lexer": "ipython3",
   "version": "3.5.1"
  }
 },
 "nbformat": 4,
 "nbformat_minor": 0
}
